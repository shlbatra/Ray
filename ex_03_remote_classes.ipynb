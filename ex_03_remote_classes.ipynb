{
 "cells": [
  {
   "cell_type": "markdown",
   "metadata": {},
   "source": [
    "# A Guided Tour of Ray Core: Remote Stateful Classes\n",
    "\n",
    "© 2019-2022, Anyscale. All Rights Reserved\n",
    "\n",
    "📖 [Back to Table of Contents](./ex_00_tutorial_overview.ipynb)<br>\n",
    "➡ [Next notebook](./ex_04_remote_classes_revisited.ipynb) <br>\n",
    "⬅️ [Previous notebook](./ex_02_remote_objs.ipynb) <br>\n",
    "\n",
    "### Overview\n",
    "\n",
    "Actors extend the [Ray API](https://docs.ray.io/en/latest/ray-core/package-ref.html) from functions (tasks) to classes. An actor is essentially a stateful worker (or a service). When a new actor is instantiated, a new worker is created or an exsisting worker is used. The methods of the actor are scheduled on that specific worker and can access and mutate the state of that worker. Like tasks, actors support CPU, GPU, and custom resource requirements.\n",
    "\n",
    "### Learning objectives\n",
    "In this this tutorial, we'll discuss Ray Actors and learn about:\n",
    " * How Ray Actors work\n",
    " * How to write a stateful Ray Actor\n",
    " * How Ray Actors can be written as a stateful distributed service"
   ]
  },
  {
   "cell_type": "markdown",
   "metadata": {},
   "source": [
    "[Remote Classes](https://docs.ray.io/en/latest/walkthrough.html#remote-classes-actors)  (just as remote tasks) use a `@ray.remote` decorator on a Python class. \n",
    "\n",
    "Ray Actor pattern is powerful. They allow you to take a Python class and instantiate it as a stateful microservice that can be queried from other actors and tasks and even other Python applications. Actors can be passed as arguments to other tasks and actors. \n",
    "\n",
    "<img src=\"images/ray_worker_actor_1.png\" height=\"40%\" width=\"70%\">\n",
    "\n",
    "When you instantiate a remote Actor, a separate worker process is attached to a worker process and becomes an Actor process on that worker node—all for the purpose of running methods called on the actor. Other Ray tasks and actors can invoke its methods on that process, mutating its internal state if desried. Actors can also be terminated manually if needed. The examples code below show all these cases.\n",
    "\n",
    "<img src=\"images/ray_worker_actor_2.png\" height=\"40%\" width=\"70%\">\n",
    "\n",
    "So let's look at some examples of Python classes converted into Ray Actors."
   ]
  },
  {
   "cell_type": "code",
   "execution_count": 1,
   "metadata": {},
   "outputs": [],
   "source": [
    "import logging\n",
    "import time\n",
    "import os\n",
    "import math\n",
    "import ray\n",
    "import random\n",
    "import tqdm\n",
    "from typing import Dict, Tuple, List\n",
    "from random import randint\n",
    "import numpy as np"
   ]
  },
  {
   "cell_type": "markdown",
   "metadata": {},
   "source": [
    "First, let's start Ray…"
   ]
  },
  {
   "cell_type": "code",
   "execution_count": 2,
   "metadata": {},
   "outputs": [
    {
     "data": {
      "text/html": [
       "<div>\n",
       "    <div style=\"margin-left: 50px;display: flex;flex-direction: row;align-items: center\">\n",
       "        <h3 style=\"color: var(--jp-ui-font-color0)\">Ray</h3>\n",
       "        <svg version=\"1.1\" id=\"ray\" width=\"3em\" viewBox=\"0 0 144.5 144.6\" style=\"margin-left: 3em;margin-right: 3em\">\n",
       "            <g id=\"layer-1\">\n",
       "                <path fill=\"#00a2e9\" class=\"st0\" d=\"M97.3,77.2c-3.8-1.1-6.2,0.9-8.3,5.1c-3.5,6.8-9.9,9.9-17.4,9.6S58,88.1,54.8,81.2c-1.4-3-3-4-6.3-4.1\n",
       "                    c-5.6-0.1-9.9,0.1-13.1,6.4c-3.8,7.6-13.6,10.2-21.8,7.6C5.2,88.4-0.4,80.5,0,71.7c0.1-8.4,5.7-15.8,13.8-18.2\n",
       "                    c8.4-2.6,17.5,0.7,22.3,8c1.3,1.9,1.3,5.2,3.6,5.6c3.9,0.6,8,0.2,12,0.2c1.8,0,1.9-1.6,2.4-2.8c3.5-7.8,9.7-11.8,18-11.9\n",
       "                    c8.2-0.1,14.4,3.9,17.8,11.4c1.3,2.8,2.9,3.6,5.7,3.3c1-0.1,2,0.1,3,0c2.8-0.5,6.4,1.7,8.1-2.7s-2.3-5.5-4.1-7.5\n",
       "                    c-5.1-5.7-10.9-10.8-16.1-16.3C84,38,81.9,37.1,78,38.3C66.7,42,56.2,35.7,53,24.1C50.3,14,57.3,2.8,67.7,0.5\n",
       "                    C78.4-2,89,4.7,91.5,15.3c0.1,0.3,0.1,0.5,0.2,0.8c0.7,3.4,0.7,6.9-0.8,9.8c-1.7,3.2-0.8,5,1.5,7.2c6.7,6.5,13.3,13,19.8,19.7\n",
       "                    c1.8,1.8,3,2.1,5.5,1.2c9.1-3.4,17.9-0.6,23.4,7c4.8,6.9,4.6,16.1-0.4,22.9c-5.4,7.2-14.2,9.9-23.1,6.5c-2.3-0.9-3.5-0.6-5.1,1.1\n",
       "                    c-6.7,6.9-13.6,13.7-20.5,20.4c-1.8,1.8-2.5,3.2-1.4,5.9c3.5,8.7,0.3,18.6-7.7,23.6c-7.9,5-18.2,3.8-24.8-2.9\n",
       "                    c-6.4-6.4-7.4-16.2-2.5-24.3c4.9-7.8,14.5-11,23.1-7.8c3,1.1,4.7,0.5,6.9-1.7C91.7,98.4,98,92.3,104.2,86c1.6-1.6,4.1-2.7,2.6-6.2\n",
       "                    c-1.4-3.3-3.8-2.5-6.2-2.6C99.8,77.2,98.9,77.2,97.3,77.2z M72.1,29.7c5.5,0.1,9.9-4.3,10-9.8c0-0.1,0-0.2,0-0.3\n",
       "                    C81.8,14,77,9.8,71.5,10.2c-5,0.3-9,4.2-9.3,9.2c-0.2,5.5,4,10.1,9.5,10.3C71.8,29.7,72,29.7,72.1,29.7z M72.3,62.3\n",
       "                    c-5.4-0.1-9.9,4.2-10.1,9.7c0,0.2,0,0.3,0,0.5c0.2,5.4,4.5,9.7,9.9,10c5.1,0.1,9.9-4.7,10.1-9.8c0.2-5.5-4-10-9.5-10.3\n",
       "                    C72.6,62.3,72.4,62.3,72.3,62.3z M115,72.5c0.1,5.4,4.5,9.7,9.8,9.9c5.6-0.2,10-4.8,10-10.4c-0.2-5.4-4.6-9.7-10-9.7\n",
       "                    c-5.3-0.1-9.8,4.2-9.9,9.5C115,72.1,115,72.3,115,72.5z M19.5,62.3c-5.4,0.1-9.8,4.4-10,9.8c-0.1,5.1,5.2,10.4,10.2,10.3\n",
       "                    c5.6-0.2,10-4.9,9.8-10.5c-0.1-5.4-4.5-9.7-9.9-9.6C19.6,62.3,19.5,62.3,19.5,62.3z M71.8,134.6c5.9,0.2,10.3-3.9,10.4-9.6\n",
       "                    c0.5-5.5-3.6-10.4-9.1-10.8c-5.5-0.5-10.4,3.6-10.8,9.1c0,0.5,0,0.9,0,1.4c-0.2,5.3,4,9.8,9.3,10\n",
       "                    C71.6,134.6,71.7,134.6,71.8,134.6z\"/>\n",
       "            </g>\n",
       "        </svg>\n",
       "        <table>\n",
       "            <tr>\n",
       "                <td style=\"text-align: left\"><b>Python version:</b></td>\n",
       "                <td style=\"text-align: left\"><b>3.8.13</b></td>\n",
       "            </tr>\n",
       "            <tr>\n",
       "                <td style=\"text-align: left\"><b>Ray version:</b></td>\n",
       "                <td style=\"text-align: left\"><b> 2.2.0</b></td>\n",
       "            </tr>\n",
       "            <tr>\n",
       "    <td style=\"text-align: left\"><b>Dashboard:</b></td>\n",
       "    <td style=\"text-align: left\"><b><a href=\"http://127.0.0.1:8265\" target=\"_blank\">http://127.0.0.1:8265</a></b></td>\n",
       "</tr>\n",
       "\n",
       "        </table>\n",
       "    </div>\n",
       "</div>\n"
      ],
      "text/plain": [
       "RayContext(dashboard_url='127.0.0.1:8265', python_version='3.8.13', ray_version='2.2.0', ray_commit='b6af0887ee5f2e460202133791ad941a41f15beb', address_info={'node_ip_address': '127.0.0.1', 'raylet_ip_address': '127.0.0.1', 'redis_address': None, 'object_store_address': '/tmp/ray/session_2022-12-20_09-41-26_416852_76391/sockets/plasma_store', 'raylet_socket_name': '/tmp/ray/session_2022-12-20_09-41-26_416852_76391/sockets/raylet', 'webui_url': '127.0.0.1:8265', 'session_dir': '/tmp/ray/session_2022-12-20_09-41-26_416852_76391', 'metrics_export_port': 62446, 'gcs_address': '127.0.0.1:59658', 'address': '127.0.0.1:59658', 'dashboard_agent_listen_port': 52365, 'node_id': 'f14b2520a4a604a8a59d570e3c94f38423fd0e19d5b88fac1ef5ee46'})"
      ]
     },
     "execution_count": 2,
     "metadata": {},
     "output_type": "execute_result"
    }
   ],
   "source": [
    "if ray.is_initialized:\n",
    "    ray.shutdown()\n",
    "ray.init(logging_level=logging.ERROR)"
   ]
  },
  {
   "cell_type": "markdown",
   "metadata": {},
   "source": [
    "## Remote class as a stateful actor"
   ]
  },
  {
   "cell_type": "markdown",
   "metadata": {},
   "source": [
    "#### Example 1: Method tracking for Actors\n",
    "**Problem**: We want to keep track of who invoked a particular method in different Actors. This could be a use case for telemetry data we want to track about what Actors are being used and its respective methods invoked. Or what Actor service's methods are most frequently accessed or used.\n",
    "\n",
    "|<img src=\"images/cls_actor_calls.png\" width=\"70%\" height=\"30%\"> |\n",
    "|:--|\n",
    "|Driver code calling different Actor methods.|\n"
   ]
  },
  {
   "cell_type": "markdown",
   "metadata": {},
   "source": [
    "Let's use this actor to track method invocation of a Ray actor's methods. Each Ray actor instance will track how many times it's methods were invoked. \n",
    "\n",
    "Define a base class `ActorCls`, and define two sublcasses `ActorClsOne` and `ActorClsTwo`."
   ]
  },
  {
   "cell_type": "markdown",
   "metadata": {},
   "source": [
    "Our base class `ActorCls`"
   ]
  },
  {
   "cell_type": "code",
   "execution_count": 3,
   "metadata": {},
   "outputs": [],
   "source": [
    "class ActorCls:\n",
    "    def __init__(self, name: str):\n",
    "        self.name = name\n",
    "        self.method_calls = {\"method\": 0}\n",
    "\n",
    "    def method(self, **args) -> None:\n",
    "        # Overwrite this method is the subclass\n",
    "        pass\n",
    "\n",
    "    def get_all_method_calls(self) -> Tuple[str, Dict[str, int]]:\n",
    "        return self.get_name(), self.method_calls\n",
    "    \n",
    "    def get_name(self) -> str:\n",
    "        return self.name"
   ]
  },
  {
   "cell_type": "markdown",
   "metadata": {},
   "source": [
    "Our first super class `ActorClsOne`"
   ]
  },
  {
   "cell_type": "code",
   "execution_count": 6,
   "metadata": {},
   "outputs": [],
   "source": [
    "@ray.remote\n",
    "class ActorClsOne(ActorCls):\n",
    "    \n",
    "    def __init__(self, name: str):\n",
    "        super().__init__(name)\n",
    "        \n",
    "    def method(self, **args) -> None:\n",
    "        # do something with kwargs here\n",
    "        time.sleep(args[\"timeout\"])\n",
    "        \n",
    "        # update the respective counter\n",
    "        self.method_calls[\"method\"] += 1"
   ]
  },
  {
   "cell_type": "markdown",
   "metadata": {},
   "source": [
    "Our second super class `ActorClsTwo`"
   ]
  },
  {
   "cell_type": "code",
   "execution_count": 7,
   "metadata": {},
   "outputs": [],
   "source": [
    "@ray.remote\n",
    "class ActorClsTwo(ActorCls):\n",
    "    \n",
    "    def __init__(self, name: str):\n",
    "         super().__init__(name)\n",
    "        \n",
    "    def method(self, **args) -> None:\n",
    "        # do something with kwargs here\n",
    "        time.sleep(args[\"timeout\"])\n",
    "        \n",
    "        # update the respective counter\n",
    "        self.method_calls[\"method\"] += 1"
   ]
  },
  {
   "cell_type": "markdown",
   "metadata": {},
   "source": [
    "### Make random calls to Actors \n",
    "\n",
    "This is our driver using the two Actors we defined. It randomly calls each Actor\n",
    "and its respective method."
   ]
  },
  {
   "cell_type": "code",
   "execution_count": 8,
   "metadata": {},
   "outputs": [],
   "source": [
    "CALLERS_NAMES = [\"ActorClsOne\", \"ActorClsTwo\"]\n",
    "CALLERS_CLS_DICT = {\"ActorClsOne\": ActorClsOne.remote(\"ActorClsOne\"), \n",
    "                    \"ActorClsTwo\": ActorClsTwo.remote(\"ActorClsTwo\")}"
   ]
  },
  {
   "cell_type": "markdown",
   "metadata": {},
   "source": [
    "Iterate over number of classes, and call randomly each super class Actor's method while keeping track locally here for verification."
   ]
  },
  {
   "cell_type": "code",
   "execution_count": 9,
   "metadata": {},
   "outputs": [
    {
     "name": "stdout",
     "output_type": "stream",
     "text": [
      "State of counts in this execution: {'ActorClsOne': 7, 'ActorClsTwo': 8}\n",
      "State of counts in this execution: {'ActorClsOne': 14, 'ActorClsTwo': 16}\n"
     ]
    }
   ],
   "source": [
    "count_dict = {\"ActorClsOne\": 0, \"ActorClsTwo\": 0}\n",
    "for _ in range(len(CALLERS_NAMES)): \n",
    "    for _ in range(15):\n",
    "        name = random.choice(CALLERS_NAMES)\n",
    "        count_dict[name] += 1 \n",
    "        CALLERS_CLS_DICT[name].method.remote(timeout=1, store=\"mongo_db\") if name == \"ActorClsOne\" else CALLERS_CLS_DICT[name].method.remote(timeout=1.5, store=\"delta\")\n",
    "        \n",
    "    print(f\"State of counts in this execution: {count_dict}\")\n",
    "    time.sleep(0.5)"
   ]
  },
  {
   "cell_type": "markdown",
   "metadata": {},
   "source": [
    "Fetch the count of all the methods called in each Actor called so far. "
   ]
  },
  {
   "cell_type": "code",
   "execution_count": 10,
   "metadata": {},
   "outputs": [
    {
     "name": "stdout",
     "output_type": "stream",
     "text": [
      "[('ActorClsOne', {'method': 14}), ('ActorClsTwo', {'method': 16})]\n"
     ]
    }
   ],
   "source": [
    "print(ray.get([CALLERS_CLS_DICT[name].get_all_method_calls.remote() for name in CALLERS_NAMES]))"
   ]
  },
  {
   "cell_type": "markdown",
   "metadata": {},
   "source": [
    "**Note** that we did not have to reason about where and how the actors are scheduled.\n",
    "\n",
    "We did not worry about the socket connection or IP addresses where these actors reside. All that's abstracted away from us. All that's handled by Ray.\n",
    "\n",
    "All we did is write Python code, using Ray core APIs, convert our classes into distributed stateful services!"
   ]
  },
  {
   "cell_type": "markdown",
   "metadata": {},
   "source": [
    "#### Look at the Ray Dashboard\n",
    "\n",
    "You should see Actors running as process on the workers nodes\n",
    "Also, click on the `Actors` to view more metrics and data on individual Ray Actors"
   ]
  },
  {
   "cell_type": "markdown",
   "metadata": {},
   "source": [
    "### Recap\n",
    "In the above exercise, we saw how you can use Actors to keep track how many times its methods were invoked. This could be a useful example for telemetry data if you're interested to obtain the use of Actors deployed as services."
   ]
  },
  {
   "cell_type": "markdown",
   "metadata": {},
   "source": [
    "### Exercise\n",
    "Add another class, call it `ActorClsThree` and modify the code to keep track of its method. For simplicty, keep track of only a single method. "
   ]
  },
  {
   "cell_type": "markdown",
   "metadata": {},
   "source": [
    "#### Example 2: Use Actor to keep track of progress \n",
    "\n",
    "**Problem**: In our [first tutorial](ex_01_remote_funcs.ipynb), we explored how to approximate the value of π using only tasks. In this example, we extend it by definining a Ray actor that can be called by our Ray sampling tasks to update progress. The sampling tasks send a message (via method call) to the Ray actor to update progress. \n",
    "\n",
    "|<img src=\"https://docs.ray.io/en/latest/_images/monte_carlo_pi.png\" width=\"60%\" height=\"30%\">|\n",
    "|:--|\n",
    "|Estimating the value of π by sampling random points that fall into the circle.|"
   ]
  },
  {
   "cell_type": "markdown",
   "metadata": {},
   "source": [
    "#### Defining our progress Actor\n",
    "Let's define a Ray actor that does the following:\n",
    " * keeps track of each task id and its completed tasks\n",
    " * can be called (or sent a message to) by sampling tasks to update progress"
   ]
  },
  {
   "cell_type": "code",
   "execution_count": 11,
   "metadata": {},
   "outputs": [],
   "source": [
    "@ray.remote\n",
    "class ProgressPIActor:\n",
    "    def __init__(self, total_num_samples: int):\n",
    "        # total number of all the samples for all the tasks\n",
    "        self.total_num_samples = total_num_samples\n",
    "        # Dict to keep track of each task id\n",
    "        self.num_samples_completed_per_task = {}\n",
    "\n",
    "    def report_progress(self, task_id: int, num_samples_completed: int) -> None:\n",
    "        # Update sample completed for a task id\n",
    "        self.num_samples_completed_per_task[task_id] = num_samples_completed\n",
    "\n",
    "    def get_progress(self) -> float:\n",
    "        # Ratio of tasks completed so far completed and \n",
    "        # total number of all the samples == num_of_tasks * num_samples  \n",
    "        return (\n",
    "            sum(self.num_samples_completed_per_task.values()) / self.total_num_samples\n",
    "        )"
   ]
  },
  {
   "cell_type": "markdown",
   "metadata": {},
   "source": [
    "#### Defining the Sampling Task\n",
    "\n",
    "As before in our task tutorial, we define a Ray task that does the sampling up to `num_samples` and returns the number of samples that are inside the circle. The\n",
    "`frequency_report` is the value at which point we want to update the current `task_id`s progress in our progress actor. "
   ]
  },
  {
   "cell_type": "code",
   "execution_count": 12,
   "metadata": {},
   "outputs": [],
   "source": [
    "@ray.remote\n",
    "def sampling_task(num_samples: int, task_id: int, \n",
    "                  progress_actor: ray.actor.ActorHandle,\n",
    "                  frequency_report: int = 1_000_000) -> int:\n",
    "    num_inside = 0\n",
    "    for i in range(num_samples):\n",
    "        # x, y coordinates that bounded by the circle's radius\n",
    "        x, y = random.uniform(-1, 1), random.uniform(-1, 1)\n",
    "        if math.hypot(x, y) <= 1:\n",
    "            num_inside += 1\n",
    "\n",
    "        # Report progress every requency_report of samples.\n",
    "        if (i + 1) % frequency_report == 0:\n",
    "            # Send a message or call the actor method.\n",
    "            # This is asynchronous.\n",
    "            progress_actor.report_progress.remote(task_id, i + 1)\n",
    "\n",
    "    # Report the final progress.\n",
    "    progress_actor.report_progress.remote(task_id, num_samples)\n",
    "    \n",
    "    # Return the total number of samples inside our circle\n",
    "    return num_inside"
   ]
  },
  {
   "cell_type": "markdown",
   "metadata": {},
   "source": [
    "#### Defining some tunable parameters \n",
    "\n",
    "These values can be changed for experimentation.\n",
    " * `NUM_SAMPLING_TASKS`   - you can scale this depending on CPUs on your cluster. \n",
    " * `NUM_SAMPLES_PER_TASK` - you can increase or decrease the number of samples per task to experiment how it affects the accuracy of π\n",
    " * `SAMPLE_REPORT_FREQUENCY` - report progress after this number has reached in the sampling Ray task"
   ]
  },
  {
   "cell_type": "code",
   "execution_count": 13,
   "metadata": {},
   "outputs": [],
   "source": [
    "# Change this for experimentation to match your cluster scale.\n",
    "NUM_SAMPLING_TASKS = os.cpu_count()\n",
    "NUM_SAMPLES_PER_TASK = 10_000_000\n",
    "TOTAL_NUM_SAMPLES = NUM_SAMPLING_TASKS * NUM_SAMPLES_PER_TASK\n",
    "SAMPLE_REPORT_FREQUENCY = 1_000_000\n",
    "\n",
    "# Create the progress actor.\n",
    "progress_actor = ProgressPIActor.remote(TOTAL_NUM_SAMPLES)"
   ]
  },
  {
   "cell_type": "markdown",
   "metadata": {},
   "source": [
    "#### Executing Sampling Tasks in parallel\n",
    "\n",
    "Using comprehension list, we launch `NUM_SAMPLING_TASKS` as Ray remote tasks, each\n",
    "sampling with `NUM_SAMPLES_PER_TASK` data points. \n",
    "\n",
    "**Note**: We send our progress report  actor as a parameter to each Ray task  "
   ]
  },
  {
   "cell_type": "code",
   "execution_count": 14,
   "metadata": {},
   "outputs": [],
   "source": [
    "# Create and execute all sampling tasks in parallel.\n",
    "# It returns a list of ObjectRefIDs returned by each task.\n",
    "# The ObjectRefID contains the value of points inside the circle\n",
    "results = [\n",
    "    sampling_task.remote(NUM_SAMPLES_PER_TASK, i, progress_actor, frequency_report=SAMPLE_REPORT_FREQUENCY )\n",
    "    for i in range(NUM_SAMPLING_TASKS)\n",
    "]"
   ]
  },
  {
   "cell_type": "markdown",
   "metadata": {},
   "source": [
    "#### Calling the Progress Actor\n",
    "\n",
    "While the task are executing asynchronously, let's check how they are progressing using our Ray Actor."
   ]
  },
  {
   "cell_type": "code",
   "execution_count": 15,
   "metadata": {},
   "outputs": [
    {
     "name": "stdout",
     "output_type": "stream",
     "text": [
      "Progress: 7%\n",
      "Progress: 27%\n",
      "Progress: 47%\n",
      "Progress: 67%\n",
      "Progress: 87%\n",
      "Progress: 100%\n"
     ]
    }
   ],
   "source": [
    "# Query progress periodically.\n",
    "while True:\n",
    "    progress = ray.get(progress_actor.get_progress.remote())\n",
    "    print(f\"Progress: {int(progress * 100)}%\")\n",
    "\n",
    "    if progress == 1:\n",
    "        break\n",
    "\n",
    "    time.sleep(1)"
   ]
  },
  {
   "cell_type": "markdown",
   "metadata": {},
   "source": [
    "### Calculating π\n",
    "As before the value of π is the ratio of total_num_inside * 4 / total samples. "
   ]
  },
  {
   "cell_type": "code",
   "execution_count": 16,
   "metadata": {},
   "outputs": [
    {
     "name": "stdout",
     "output_type": "stream",
     "text": [
      "Estimated value of π is: 3.14143452\n"
     ]
    }
   ],
   "source": [
    "# Get all the sampling tasks results.\n",
    "total_num_inside = sum(ray.get(results))\n",
    "pi = (total_num_inside * 4) / TOTAL_NUM_SAMPLES\n",
    "print(f\"Estimated value of π is: {pi}\")"
   ]
  },
  {
   "cell_type": "markdown",
   "metadata": {},
   "source": [
    "### Recap\n",
    "Ray Actors are stateful and their methods can be invoked to pass messages or to alter the internal state of the class. Actors are scheduled on a dedicated Ray node's worker process. As such, all actor's method are executed on that particular worker process.\n",
    "\n",
    "In the above two examples, we saw how you can use Actors to keep track how many times its methods were invoked. This could be a useful example for telemetry data if you're interested to obtain the use of Actors deployed as services.\n",
    "\n",
    "We also demonstrated how you can use Actors to keep progress of certain Ray tasks; in our case, we tracked progress of Ray tasks approximating the value of π."
   ]
  },
  {
   "cell_type": "markdown",
   "metadata": {},
   "source": [
    "Finally, shutdown Ray"
   ]
  },
  {
   "cell_type": "code",
   "execution_count": 18,
   "metadata": {},
   "outputs": [],
   "source": [
    "ray.shutdown()"
   ]
  },
  {
   "cell_type": "markdown",
   "metadata": {},
   "source": [
    "### Next Step\n",
    "\n",
    "We covered how to use Ray Actors and write a distributed service. Next, let's explore\n",
    "how Actors can be used to write more distributed applications using Ray Actor Tree pattern.\n",
    "\n",
    "Let's move on to the [Ray Actor Revised](ex_04_remote_classes_revisited.ipynb)."
   ]
  },
  {
   "cell_type": "markdown",
   "metadata": {},
   "source": [
    "## Homework\n",
    "\n",
    "Read these references"
   ]
  },
  {
   "cell_type": "markdown",
   "metadata": {},
   "source": [
    " * [Writing your First Distributed Python Application with Ray](https://www.anyscale.com/blog/writing-your-first-distributed-python-application-with-ray)\n",
    " * [Using and Programming with Actors](https://docs.ray.io/en/latest/actors.html)\n",
    " * [Ray Asynchronous and Threaded Actors: A way to achieve concurrency]()"
   ]
  },
  {
   "cell_type": "markdown",
   "metadata": {},
   "source": [
    "📖 [Back to Table of Contents](./ex_00_tutorial_overview.ipynb)<br>\n",
    "➡ [Next notebook](./ex_04_remote_classes_revisited.ipynb) <br>\n",
    "⬅️ [Previous notebook](./ex_02_remote_objs.ipynb) <br>"
   ]
  }
 ],
 "metadata": {
  "kernelspec": {
   "display_name": "Python 3",
   "language": "python",
   "name": "python3"
  },
  "language_info": {
   "codemirror_mode": {
    "name": "ipython",
    "version": 3
   },
   "file_extension": ".py",
   "mimetype": "text/x-python",
   "name": "python",
   "nbconvert_exporter": "python",
   "pygments_lexer": "ipython3",
   "version": "3.10.1"
  },
  "vscode": {
   "interpreter": {
    "hash": "7000ff75fb6589a006dd501b4c181a2efa90fe754fda0ad3fe60ad1d1a3497b6"
   }
  }
 },
 "nbformat": 4,
 "nbformat_minor": 4
}
